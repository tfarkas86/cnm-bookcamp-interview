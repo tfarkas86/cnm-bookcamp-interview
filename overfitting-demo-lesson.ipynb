{
 "cells": [
  {
   "cell_type": "markdown",
   "id": "f6c366b6",
   "metadata": {
    "slideshow": {
     "slide_type": "slide"
    }
   },
   "source": [
    "# A Brief Introduction to Overfitting"
   ]
  },
  {
   "cell_type": "markdown",
   "id": "ffdaddf5",
   "metadata": {
    "slideshow": {
     "slide_type": "slide"
    }
   },
   "source": [
    "![alt text](overfitting.png \"Title\")"
   ]
  },
  {
   "cell_type": "markdown",
   "id": "10479661",
   "metadata": {
    "slideshow": {
     "slide_type": "fragment"
    }
   },
   "source": [
    "# The end"
   ]
  }
 ],
 "metadata": {
  "celltoolbar": "Slideshow",
  "kernelspec": {
   "display_name": "Python 3 (ipykernel)",
   "language": "python",
   "name": "python3"
  },
  "language_info": {
   "codemirror_mode": {
    "name": "ipython",
    "version": 3
   },
   "file_extension": ".py",
   "mimetype": "text/x-python",
   "name": "python",
   "nbconvert_exporter": "python",
   "pygments_lexer": "ipython3",
   "version": "3.9.7"
  }
 },
 "nbformat": 4,
 "nbformat_minor": 5
}
